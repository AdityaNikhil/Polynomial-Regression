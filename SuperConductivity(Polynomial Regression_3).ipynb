{
 "cells": [
  {
   "cell_type": "code",
   "execution_count": 1,
   "metadata": {},
   "outputs": [],
   "source": [
    "import numpy as np\n",
    "import pandas as pd\n",
    "import matplotlib.pyplot as plt\n",
    "import random\n",
    "from IPython.display import clear_output"
   ]
  },
  {
   "cell_type": "code",
   "execution_count": 2,
   "metadata": {},
   "outputs": [],
   "source": [
    "df=pd.read_csv('SuperConductivity.csv')"
   ]
  },
  {
   "cell_type": "code",
   "execution_count": 3,
   "metadata": {},
   "outputs": [
    {
     "data": {
      "text/plain": [
       "Index(['number_of_elements', 'mean_atomic_mass', 'wtd_mean_atomic_mass',\n",
       "       'gmean_atomic_mass', 'wtd_gmean_atomic_mass', 'entropy_atomic_mass',\n",
       "       'wtd_entropy_atomic_mass', 'range_atomic_mass', 'wtd_range_atomic_mass',\n",
       "       'std_atomic_mass', 'wtd_std_atomic_mass', 'mean_fie', 'wtd_mean_fie',\n",
       "       'gmean_fie', 'wtd_gmean_fie', 'entropy_fie', 'wtd_entropy_fie',\n",
       "       'range_fie', 'wtd_range_fie', 'std_fie', 'wtd_std_fie',\n",
       "       'mean_atomic_radius', 'wtd_mean_atomic_radius', 'gmean_atomic_radius',\n",
       "       'wtd_gmean_atomic_radius', 'entropy_atomic_radius',\n",
       "       'wtd_entropy_atomic_radius', 'range_atomic_radius',\n",
       "       'wtd_range_atomic_radius', 'std_atomic_radius', 'wtd_std_atomic_radius',\n",
       "       'mean_Density', 'wtd_mean_Density', 'gmean_Density',\n",
       "       'wtd_gmean_Density', 'entropy_Density', 'wtd_entropy_Density',\n",
       "       'range_Density', 'wtd_range_Density', 'std_Density', 'wtd_std_Density',\n",
       "       'mean_ElectronAffinity', 'wtd_mean_ElectronAffinity',\n",
       "       'gmean_ElectronAffinity', 'wtd_gmean_ElectronAffinity',\n",
       "       'entropy_ElectronAffinity', 'wtd_entropy_ElectronAffinity',\n",
       "       'range_ElectronAffinity', 'wtd_range_ElectronAffinity',\n",
       "       'std_ElectronAffinity', 'wtd_std_ElectronAffinity', 'mean_FusionHeat',\n",
       "       'wtd_mean_FusionHeat', 'gmean_FusionHeat', 'wtd_gmean_FusionHeat',\n",
       "       'entropy_FusionHeat', 'wtd_entropy_FusionHeat', 'range_FusionHeat',\n",
       "       'wtd_range_FusionHeat', 'std_FusionHeat', 'wtd_std_FusionHeat',\n",
       "       'mean_ThermalConductivity', 'wtd_mean_ThermalConductivity',\n",
       "       'gmean_ThermalConductivity', 'wtd_gmean_ThermalConductivity',\n",
       "       'entropy_ThermalConductivity', 'wtd_entropy_ThermalConductivity',\n",
       "       'range_ThermalConductivity', 'wtd_range_ThermalConductivity',\n",
       "       'std_ThermalConductivity', 'wtd_std_ThermalConductivity',\n",
       "       'mean_Valence', 'wtd_mean_Valence', 'gmean_Valence',\n",
       "       'wtd_gmean_Valence', 'entropy_Valence', 'wtd_entropy_Valence',\n",
       "       'range_Valence', 'wtd_range_Valence', 'std_Valence', 'wtd_std_Valence',\n",
       "       'critical_temp'],\n",
       "      dtype='object')"
      ]
     },
     "execution_count": 3,
     "metadata": {},
     "output_type": "execute_result"
    }
   ],
   "source": [
    "df.columns"
   ]
  },
  {
   "cell_type": "code",
   "execution_count": 5,
   "metadata": {},
   "outputs": [
    {
     "data": {
      "text/plain": [
       "(1, 21263)"
      ]
     },
     "execution_count": 5,
     "metadata": {},
     "output_type": "execute_result"
    }
   ],
   "source": [
    "target=df['critical_temp']\n",
    "target=np.array(target)\n",
    "target=target.reshape(1,len(target))\n",
    "target.shape"
   ]
  },
  {
   "cell_type": "code",
   "execution_count": 6,
   "metadata": {},
   "outputs": [
    {
     "data": {
      "text/plain": [
       "(21263, 81)"
      ]
     },
     "execution_count": 6,
     "metadata": {},
     "output_type": "execute_result"
    }
   ],
   "source": [
    "features=df.drop('critical_temp',axis=1).copy()\n",
    "features=np.array(features)\n",
    "features.shape\n"
   ]
  },
  {
   "cell_type": "code",
   "execution_count": 22,
   "metadata": {},
   "outputs": [],
   "source": [
    "p=np.random.randint(1,20,81)"
   ]
  },
  {
   "cell_type": "code",
   "execution_count": 24,
   "metadata": {},
   "outputs": [],
   "source": [
    "p=p.reshape(81,1)\n"
   ]
  },
  {
   "cell_type": "code",
   "execution_count": 25,
   "metadata": {},
   "outputs": [],
   "source": [
    "features=features/features.max()\n",
    "target=target/target.max()\n"
   ]
  },
  {
   "cell_type": "code",
   "execution_count": 40,
   "metadata": {},
   "outputs": [],
   "source": [
    "\n",
    "def curve(m,x,c):\n",
    "    return np.dot(m,(x.T)**p)+c\n",
    "def error(m,x,c,y):\n",
    "    return np.mean((curve(m,x,c)-y)**2)\n",
    "def der_slope(m,x,c,y):\n",
    "    return 2*np.mean((np.multiply((curve(m,x,c)-y),x.T**p)),axis=1)\n",
    "def der_int(m,x,c,y):\n",
    "    return 2*np.mean(curve(m,x,c)-y)\n"
   ]
  },
  {
   "cell_type": "code",
   "execution_count": 42,
   "metadata": {},
   "outputs": [
    {
     "name": "stdout",
     "output_type": "stream",
     "text": [
      "error: 0.2122099859739714\n",
      "iteration : 999\n"
     ]
    },
    {
     "data": {
      "image/png": "[encoded data removed]",
      "text/plain": [
       "<Figure size 432x288 with 1 Axes>"
      ]
     },
     "metadata": {
      "needs_background": "light"
     },
     "output_type": "display_data"
    }
   ],
   "source": [
    "m=abs(np.random.randn(1,81))\n",
    "c=abs(random.random())\n",
    "it=1000\n",
    "lr=0.0000000000001\n",
    "cost=[]\n",
    "for i in range(it):\n",
    "    m=m-lr*der_slope(m,features,c,target)\n",
    "    c=c-lr*der_int(m,features,c,target)\n",
    "    cost.append(error(m,features,c,target))\n",
    "    clear_output(True)\n",
    "    print('error:',error(m,features,c,target))\n",
    "    print('iteration :',i)\n",
    "plt.plot(cost)\n",
    "plt.show()"
   ]
  },
  {
   "cell_type": "code",
   "execution_count": 43,
   "metadata": {},
   "outputs": [
    {
     "data": {
      "text/plain": [
       "array([[0.26491285, 0.28740047, 0.26629241, ..., 0.53584217, 0.51217373,\n",
       "        0.34498307]])"
      ]
     },
     "execution_count": 43,
     "metadata": {},
     "output_type": "execute_result"
    }
   ],
   "source": [
    "curve(m,features,c)"
   ]
  },
  {
   "cell_type": "code",
   "execution_count": 44,
   "metadata": {},
   "outputs": [
    {
     "data": {
      "text/plain": [
       "array([[0.15675676, 0.14054054, 0.1027027 , ..., 0.0107027 , 0.00994595,\n",
       "        0.06918919]])"
      ]
     },
     "execution_count": 44,
     "metadata": {},
     "output_type": "execute_result"
    }
   ],
   "source": [
    "target"
   ]
  },
  {
   "cell_type": "code",
   "execution_count": null,
   "metadata": {},
   "outputs": [],
   "source": []
  }
 ],
 "metadata": {
  "kernelspec": {
   "display_name": "Python 3",
   "language": "python",
   "name": "python3"
  },
  "language_info": {
   "codemirror_mode": {
    "name": "ipython",
    "version": 3
   },
   "file_extension": ".py",
   "mimetype": "text/x-python",
   "name": "python",
   "nbconvert_exporter": "python",
   "pygments_lexer": "ipython3",
   "version": "3.7.1"
  }
 },
 "nbformat": 4,
 "nbformat_minor": 2
}
